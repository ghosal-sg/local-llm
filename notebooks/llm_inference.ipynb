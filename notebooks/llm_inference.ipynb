{
 "cells": [
  {
   "cell_type": "code",
   "execution_count": 1,
   "id": "396502bc",
   "metadata": {
    "colab": {
     "base_uri": "https://localhost:8080/"
    },
    "executionInfo": {
     "elapsed": 132897,
     "status": "ok",
     "timestamp": 1749379328286,
     "user": {
      "displayName": "Saptarshi Ghosal",
      "userId": "13378585733606813733"
     },
     "user_tz": -330
    },
    "id": "396502bc",
    "outputId": "a60b331f-3b17-4f14-add0-47f721c3369e"
   },
   "outputs": [],
   "source": [
    "# If running in Google Colab, install required packages\n",
    "import sys\n",
    "if 'google.colab' in sys.modules:\n",
    "    !pip install transformers torch sentencepiece accelerate --quiet"
   ]
  },
  {
   "cell_type": "code",
   "execution_count": 2,
   "id": "9b04584b",
   "metadata": {
    "executionInfo": {
     "elapsed": 14706,
     "status": "ok",
     "timestamp": 1749379342985,
     "user": {
      "displayName": "Saptarshi Ghosal",
      "userId": "13378585733606813733"
     },
     "user_tz": -330
    },
    "id": "9b04584b"
   },
   "outputs": [],
   "source": [
    "from transformers import AutoModelForCausalLM, AutoTokenizer\n",
    "import torch"
   ]
  },
  {
   "cell_type": "code",
   "execution_count": 3,
   "id": "747783e9",
   "metadata": {
    "executionInfo": {
     "elapsed": 2,
     "status": "ok",
     "timestamp": 1749379342989,
     "user": {
      "displayName": "Saptarshi Ghosal",
      "userId": "13378585733606813733"
     },
     "user_tz": -330
    },
    "id": "747783e9"
   },
   "outputs": [],
   "source": [
    "# Default model name\n",
    "DEFAULT_MODEL_NAME = \"deepseek-ai/deepseek-llm-7b-chat\""
   ]
  },
  {
   "cell_type": "code",
   "execution_count": 4,
   "id": "e441fc2d",
   "metadata": {
    "executionInfo": {
     "elapsed": 2,
     "status": "ok",
     "timestamp": 1749379342998,
     "user": {
      "displayName": "Saptarshi Ghosal",
      "userId": "13378585733606813733"
     },
     "user_tz": -330
    },
    "id": "e441fc2d"
   },
   "outputs": [],
   "source": [
    "# Cache for loaded models and tokenizers\n",
    "_model_cache = {}\n",
    "\n",
    "def get_model_and_tokenizer(model_name):\n",
    "    if model_name not in _model_cache:\n",
    "        tokenizer = AutoTokenizer.from_pretrained(model_name)\n",
    "        model = AutoModelForCausalLM.from_pretrained(\n",
    "            model_name, torch_dtype=torch.float16, device_map=\"auto\", offload_folder=\"./offload\"\n",
    "        )\n",
    "        _model_cache[model_name] = (model, tokenizer)\n",
    "    return _model_cache[model_name]\n",
    "\n",
    "def generate_response(prompt, model_name=DEFAULT_MODEL_NAME, max_new_tokens=1024, temperature=0.7, top_p=0.9):\n",
    "    \"\"\"\n",
    "    Generate a response from a language model given a prompt.\n",
    "\n",
    "    Args:\n",
    "        prompt (str): The input prompt.\n",
    "        model_name (str): The HuggingFace model name. Defaults to DEFAULT_MODEL_NAME.\n",
    "        max_new_tokens (int): Maximum number of new tokens to generate.\n",
    "        temperature (float): Sampling temperature. Higher values mean more random generations. Default is 0.7.\n",
    "        top_p (float): Nucleus sampling probability. Lower values mean more focused generations. Default is 0.9.\n",
    "\n",
    "    Returns:\n",
    "        str: The generated response.\n",
    "    \"\"\"\n",
    "    model, tokenizer = get_model_and_tokenizer(model_name)\n",
    "    inputs = tokenizer(prompt, return_tensors=\"pt\").to(model.device)\n",
    "    outputs = model.generate(\n",
    "        **inputs,\n",
    "        max_new_tokens=max_new_tokens,\n",
    "        temperature=temperature,\n",
    "        top_p=top_p\n",
    "    )\n",
    "    response = tokenizer.decode(outputs[0], skip_special_tokens=True)\n",
    "    return response"
   ]
  },
  {
   "cell_type": "code",
   "execution_count": 5,
   "id": "91cdf16e",
   "metadata": {
    "colab": {
     "base_uri": "https://localhost:8080/"
    },
    "id": "91cdf16e",
    "outputId": "27c0a733-1ad4-4e1b-84fd-e7666c7b703b"
   },
   "outputs": [
    {
     "data": {
      "application/vnd.jupyter.widget-view+json": {
       "model_id": "1066c12c3cfc4425bef09126042a849b",
       "version_major": 2,
       "version_minor": 0
      },
      "text/plain": [
       "Loading checkpoint shards:   0%|          | 0/2 [00:00<?, ?it/s]"
      ]
     },
     "metadata": {},
     "output_type": "display_data"
    },
    {
     "name": "stderr",
     "output_type": "stream",
     "text": [
      "Setting `pad_token_id` to `eos_token_id`:100001 for open-end generation.\n"
     ]
    },
    {
     "name": "stdout",
     "output_type": "stream",
     "text": [
      "How are w2vec and BERT embeddings different?\n",
      "BERT stands for Bidirectional Encoder Representations from Transformers, which is a pre-trained deep learning model for natural language processing. It is capable of understanding the context of words in a sentence by analyzing both the left and right sides of the words simultaneously.\n",
      "\n",
      "W2VEC stands for Word2Vec Embeddings, which is a pre-trained model for converting words into vectors that capture their semantic meanings.\n",
      "\n",
      "The main difference between the two is their purpose and the way they represent words. W2VEC is a simpler model that represents words as vectors, without considering the context of words in a sentence. It only uses the left context (previous words) to generate the vector.\n",
      "\n",
      "On the other hand, BERT is a more complex model that generates contextual word embeddings. It uses both the left and right contexts of words to generate the vector, thus providing a more comprehensive understanding of the word's meaning and context.\n",
      "\n",
      "In summary, W2VEC is a simpler model that represents words as vectors without considering the context, while BERT is a more complex model that generates contextual word embeddings by considering both the left and right contexts of words.\n"
     ]
    }
   ],
   "source": [
    "# Example usage\n",
    "example_prompt = \"How are w2vec and BERT embeddings different?\"\n",
    "print(generate_response(example_prompt))"
   ]
  }
 ],
 "metadata": {
  "accelerator": "GPU",
  "colab": {
   "gpuType": "T4",
   "provenance": []
  },
  "kernelspec": {
   "display_name": "Python 3",
   "name": "python3"
  },
  "language_info": {
   "codemirror_mode": {
    "name": "ipython",
    "version": 3
   },
   "file_extension": ".py",
   "mimetype": "text/x-python",
   "name": "python",
   "nbconvert_exporter": "python",
   "pygments_lexer": "ipython3",
   "version": "3.10.18"
  }
 },
 "nbformat": 4,
 "nbformat_minor": 5
}
