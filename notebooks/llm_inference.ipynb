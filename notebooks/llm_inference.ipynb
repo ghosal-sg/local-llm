{
 "cells": [
  {
   "cell_type": "code",
   "execution_count": 1,
   "id": "396502bc",
   "metadata": {},
   "outputs": [],
   "source": [
    "# If running in Google Colab, install required packages\n",
    "import sys\n",
    "if 'google.colab' in sys.modules:\n",
    "    !pip install transformers torch sentencepiece accelerate --quiet"
   ]
  },
  {
   "cell_type": "code",
   "execution_count": 2,
   "id": "9b04584b",
   "metadata": {},
   "outputs": [],
   "source": [
    "from transformers import AutoModelForCausalLM, AutoTokenizer\n",
    "import torch"
   ]
  },
  {
   "cell_type": "code",
   "execution_count": 3,
   "id": "747783e9",
   "metadata": {},
   "outputs": [],
   "source": [
    "# Default model name\n",
    "DEFAULT_MODEL_NAME = \"deepseek-ai/deepseek-llm-7b-chat\""
   ]
  },
  {
   "cell_type": "code",
   "execution_count": 4,
   "id": "e441fc2d",
   "metadata": {},
   "outputs": [],
   "source": [
    "# Cache for loaded models and tokenizers\n",
    "_model_cache = {}\n",
    "\n",
    "def get_model_and_tokenizer(model_name):\n",
    "    if model_name not in _model_cache:\n",
    "        tokenizer = AutoTokenizer.from_pretrained(model_name)\n",
    "        model = AutoModelForCausalLM.from_pretrained(\n",
    "            model_name, torch_dtype=torch.float16, device_map=\"auto\"\n",
    "        )\n",
    "        _model_cache[model_name] = (model, tokenizer)\n",
    "    return _model_cache[model_name]"
   ]
  },
  {
   "cell_type": "code",
   "execution_count": null,
   "id": "cb22f1f9",
   "metadata": {},
   "outputs": [],
   "source": [
    "def generate_response(prompt, model_name=DEFAULT_MODEL_NAME, max_new_tokens=1024, temperature=0.7, top_p=0.9):\n",
    "    \"\"\"\n",
    "    Generate a response from a language model given a prompt.\n",
    "\n",
    "    Args:\n",
    "        prompt (str): The input prompt.\n",
    "        model_name (str): The HuggingFace model name. Defaults to DEFAULT_MODEL_NAME.\n",
    "        max_new_tokens (int): Maximum number of new tokens to generate.\n",
    "        temperature (float): Sampling temperature. Higher values mean more random generations. Default is 0.7.\n",
    "        top_p (float): Nucleus sampling probability. Lower values mean more focused generations. Default is 0.9.\n",
    "\n",
    "    Returns:\n",
    "        str: The generated response.\n",
    "    \"\"\"\n",
    "    model, tokenizer = get_model_and_tokenizer(model_name)\n",
    "    inputs = tokenizer(prompt, return_tensors=\"pt\").to(model.device)\n",
    "    outputs = model.generate(\n",
    "        **inputs,\n",
    "        max_new_tokens=max_new_tokens,\n",
    "        temperature=temperature,\n",
    "        top_p=top_p\n",
    "    )\n",
    "    response = tokenizer.decode(outputs[0], skip_special_tokens=True)\n",
    "    return response"
   ]
  },
  {
   "cell_type": "code",
   "execution_count": 6,
   "id": "91cdf16e",
   "metadata": {},
   "outputs": [
    {
     "data": {
      "application/vnd.jupyter.widget-view+json": {
       "model_id": "ec6af5e46d12481292e9742d4641bc04",
       "version_major": 2,
       "version_minor": 0
      },
      "text/plain": [
       "Loading checkpoint shards:   0%|          | 0/2 [00:00<?, ?it/s]"
      ]
     },
     "metadata": {},
     "output_type": "display_data"
    },
    {
     "name": "stderr",
     "output_type": "stream",
     "text": [
      "Setting `pad_token_id` to `eos_token_id`:100001 for open-end generation.\n"
     ]
    },
    {
     "name": "stdout",
     "output_type": "stream",
     "text": [
      "How are w2vec and BERT different?\n",
      "BERT is a pre-trained transformer model for natural language processing (NLP) tasks. It is based on the transformer architecture and is trained on a large corpus of text data. It can be fine-tuned for specific tasks such as text classification, question answering, and sentiment analysis.\n",
      "\n",
      "W2VEC, on the other hand, is a word embedding model that converts words into dense vectors. It is a type of word representation that captures the semantic and syntactic relationships between words. W2VEC is trained on a large corpus of text data and is used as a starting point for downstream NLP tasks.\n",
      "\n",
      "In summary, BERT is a pre-trained model for NLP tasks and W2VEC is a word embedding model that captures the semantic and syntactic relationships between words.\n"
     ]
    }
   ],
   "source": [
    "# Example usage\n",
    "example_prompt = \"How are w2vec and BERT different?\"\n",
    "print(generate_response(example_prompt))"
   ]
  }
 ],
 "metadata": {
  "kernelspec": {
   "display_name": "deepseek-env",
   "language": "python",
   "name": "python3"
  },
  "language_info": {
   "codemirror_mode": {
    "name": "ipython",
    "version": 3
   },
   "file_extension": ".py",
   "mimetype": "text/x-python",
   "name": "python",
   "nbconvert_exporter": "python",
   "pygments_lexer": "ipython3",
   "version": "3.10.18"
  }
 },
 "nbformat": 4,
 "nbformat_minor": 5
}
